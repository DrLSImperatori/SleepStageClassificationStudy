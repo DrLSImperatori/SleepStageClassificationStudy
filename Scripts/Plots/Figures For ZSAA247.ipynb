{
 "cells": [
  {
   "cell_type": "markdown",
   "metadata": {},
   "source": [
    "## Bootstrap Model Comparison"
   ]
  },
  {
   "cell_type": "code",
   "execution_count": 8,
   "metadata": {},
   "outputs": [],
   "source": [
    "import numpy as np\n",
    "%matplotlib qt\n",
    "import matplotlib.pyplot as plt\n",
    "import seaborn as sns\n",
    "import scipy.io\n",
    "import pandas as pd\n",
    "\n",
    "filepath='/Users/laura.imperatori/Desktop/ClassificationFileCollectionForGitHub/'\n",
    "\n",
    "Comp=['W vs. N2 vs. N3 vs. REM', 'W and REM vs. NREM', 'W vs. REM']\n",
    "TestList=['POW', 'wPLI', 'wSMI', 'POW+wPLI', 'POW+wSMI', 'wPLI+wSMI', 'POW+\\nwPLI+wSMI']\n",
    "\n",
    "mat = scipy.io.loadmat(filepath + 'Data/Stats/ModelSelection.mat')"
   ]
  },
  {
   "cell_type": "code",
   "execution_count": 9,
   "metadata": {},
   "outputs": [],
   "source": [
    "def customlabels(diffmatrix,labsmatrix):\n",
    "    labels = np.empty(diffmatrix.shape,  dtype='<U20')\n",
    "    for i in range(diffmatrix.shape[0]):\n",
    "        for j in range(diffmatrix.shape[1]):\n",
    "            if abs(diffmatrix[i,j])==2:\n",
    "#                 if labsmatrix[i,j,:].any()<0.001:\n",
    "#                     labels[i,j]='{:0.1e}'.format(labsmatrix[i,j,1]) +'\\n'+ '*\\n'+'{:0.1e}'.format(labsmatrix[i,j,0],2)\n",
    "#                 else:\n",
    "                labels[i,j]='{:0.2}'.format(labsmatrix[i,j,1]) +'\\n'+ '*\\n'+ '{:0.2}'.format(labsmatrix[i,j,0],2)                 \n",
    "            elif abs(diffmatrix[i,j])==1:\n",
    "                labels[i,j]='{:0.2}'.format(labsmatrix[i,j,1]) +'\\n'+ '{:0.2}'.format(labsmatrix[i,j,0],2)   \n",
    "            else:\n",
    "                labels[i,j]=''  \n",
    "    return labels\n",
    "\n",
    "def fill_upper_triangle(df, Field):\n",
    "    n=7\n",
    "    X = np.zeros((n,n)).astype(int)\n",
    "    c=0\n",
    "\n",
    "    for a in range(n):\n",
    "        for b in range(n):\n",
    "            if b>a:\n",
    "                X[a,b]=df.loc[c, Field]\n",
    "                c=c+1\n",
    "    matrix = X + X.T - np.diag(np.diag(X))\n",
    "    return matrix"
   ]
  },
  {
   "cell_type": "code",
   "execution_count": 10,
   "metadata": {},
   "outputs": [],
   "source": [
    "# flatui = [\"#3498db\", \"#95a5a6\", \"#e74c3c\"]\n",
    "# dark=[\"#3466db\",  \"#95a5a6\",  \"#962115\"]\n",
    "\n",
    "# fig, axes = plt.subplots(1, 3, sharey='row', figsize=(50, 7))\n",
    "# for comp in range(len(Comp)):\n",
    "#     ax=axes[comp]\n",
    "#     diffmatrix=mat['Bool'][comp].astype(np.int32)\n",
    "#     res=np.where(np.triu(mat['IntervalColl'][comp])[:, :, 1]<0)\n",
    "#     if res[0].size != 0:\n",
    "#         #print(res)\n",
    "#         diffmatrix[int(res[0]),int(res[1])]= - 1\n",
    "#     #print(diffmatrix)\n",
    "#     mask = np.zeros_like(diffmatrix, dtype=np.bool)\n",
    "#     mask[np.triu_indices_from(mask)]= True\n",
    "    \n",
    "#     sns.heatmap(diffmatrix, \n",
    "#                           mask = mask,\n",
    "#                           square = True,\n",
    "#                           linewidths = .5,\n",
    "#                           cmap = sns.color_palette(dark), cbar=False,\n",
    "#                           vmin = -1, \n",
    "#                           vmax = 1,\n",
    "#                           annot = customlabels(diffmatrix, mat['IntervalColl'][comp]), \n",
    "#                           annot_kws={\"size\": 8}, fmt = '', ax=ax)\n",
    "#     #add the column names as labels\n",
    "#     ax.set_ylim(len(diffmatrix), 0)\n",
    "#     ax.set_yticklabels(TestList, rotation = 0)\n",
    "#     ax.set_xticklabels(TestList, rotation = 90)\n",
    "#     ax.set_title(Comp[comp], rotation = 0)\n",
    "#     sns.set_style({'xtick.bottom': True}, {'ytick.left': True})\n",
    "#     plt.savefig(filepath + 'Figures/ModelComparison/BComp_AllComps.eps', format='eps', dpi=1200)"
   ]
  },
  {
   "cell_type": "code",
   "execution_count": 11,
   "metadata": {},
   "outputs": [
    {
     "name": "stderr",
     "output_type": "stream",
     "text": [
      "/Users/laura.imperatori/opt/anaconda3/lib/python3.7/site-packages/ipykernel_launcher.py:11: RuntimeWarning: invalid value encountered in less\n",
      "  # This is added back by InteractiveShellApp.init_path()\n"
     ]
    }
   ],
   "source": [
    "SHORT=[\"ALL\", \"CUC\", \"WREM\"]\n",
    "flatui = [\"#3498db\", \"#95a5a6\", \"#e74c3c\"]\n",
    "dark=[\"#88BAE2\", \"#95a5a6\", \"#e89890\", \"#962115\"]\n",
    "# \"#3466db\" \n",
    "# fig, axes = plt.subplots(1, 3, sharey='row', figsize=(11, 15))\n",
    "for comp in range(len(Comp)):\n",
    "    fig= plt.figure(figsize=(5, 5))\n",
    "\n",
    "    df=pd.read_csv(filepath + 'Data/Stats/' + SHORT[comp] + '.csv')\n",
    "    diffmatrix=mat['Bool'][comp].astype(np.int32) + fill_upper_triangle(df, 'co2a_3')\n",
    "    res=np.where(np.triu(mat['IntervalColl'][comp])[:, :, 1]<0)\n",
    "    if res[0].size != 0:\n",
    "        #print(res)\n",
    "        diffmatrix[int(res[0]),int(res[1])]= - 1\n",
    "    #print(diffmatrix)\n",
    "    mask = np.zeros_like(diffmatrix, dtype=np.bool)\n",
    "    mask[np.triu_indices_from(mask)]= True\n",
    "    \n",
    "    hm=sns.heatmap(diffmatrix, \n",
    "                          mask = mask,\n",
    "                          square = True,\n",
    "                          linewidths = .5,\n",
    "                          cmap = sns.color_palette(dark), cbar=False,\n",
    "                          vmin = -1, \n",
    "                          vmax = 2,\n",
    "                          annot = customlabels(diffmatrix, mat['IntervalColl'][comp]), \n",
    "                          annot_kws={\"size\": 8}, fmt = '')\n",
    "    #add the column names as labels\n",
    "    hm.set_ylim(len(diffmatrix),0)\n",
    "    hm.set_yticklabels(TestList, rotation = 0)\n",
    "    hm.set_xticklabels(TestList, rotation = 90)\n",
    "    #hm.set_title(Comp[comp], rotation = 0)\n",
    "    sns.set_style({'xtick.bottom': True}, {'ytick.left': True})\n",
    "    fig.tight_layout()\n",
    "    #plt.savefig('/Users/laura.imperatori/Desktop/REVFIG/BComp' + str(comp+1) + '.svg', format='svg', dpi=1200)\n",
    "    plt.savefig(filepath + 'Figures/ModelComparison/BComp_' + str(comp+1) + '.eps', format='eps', dpi=1200)"
   ]
  },
  {
   "cell_type": "markdown",
   "metadata": {},
   "source": [
    "## Updated Redundancy and Synergy Plots"
   ]
  },
  {
   "cell_type": "code",
   "execution_count": 17,
   "metadata": {},
   "outputs": [],
   "source": [
    "Freqs=['Delta', 'Theta', 'Alpha', 'Sigma', 'Beta', 'Gamma']\n",
    "Types=['POW', 'wPLI', 'wSMI']\n",
    "\n",
    "FeatureList = [p1+'-'+p2 for p2 in Types for p1 in Freqs]\n",
    "\n",
    "Comp=['W vs. N2 vs. N3 vs. REM', 'W and REM vs. NREM', 'W vs. REM']"
   ]
  },
  {
   "cell_type": "code",
   "execution_count": 18,
   "metadata": {},
   "outputs": [],
   "source": [
    "import numpy as np\n",
    "%matplotlib qt\n",
    "import matplotlib.pyplot as plt\n",
    "import seaborn as sns\n",
    "import scipy.io\n",
    "mat = scipy.io.loadmat(filepath + '/Data/RedSyn/REDSYN_Results.mat')"
   ]
  },
  {
   "cell_type": "code",
   "execution_count": 19,
   "metadata": {},
   "outputs": [],
   "source": [
    "from matplotlib.ticker import PercentFormatter\n",
    "\n",
    "flatui = [\"#3498db\", \"#95a5a6\", \"#e74c3c\"]\n",
    "dark=[\"#3466db\",  \"#95a5a6\",  \"#962115\"]\n",
    "\n",
    "II=['Redundancy', 'Synergy']\n",
    "\n",
    "Freqs=['Delta', 'Theta', 'Alpha', 'Sigma', 'Beta', 'Gamma']\n",
    "Types=['POW', 'wPLI', 'wSMI']\n",
    "\n",
    "FeatureList = [p1+'-'+p2 for p2 in Types for p1 in Freqs]\n",
    "\n",
    "label_top=['A', 'B', 'C']\n",
    "\n",
    "for ii in range(len(II)):\n",
    "    fig, axes = plt.subplots(1, 3, sharey='row', figsize=(30, 6.5)) # 50,10\n",
    "    cbar_ax = fig.add_axes([.9, .3, .03, .4])\n",
    "    for i, ax in enumerate(axes.flat):\n",
    "#     for comp in range(len(Comp)):\n",
    "#         ax=axes[comp]\n",
    "        if ii==0:\n",
    "            iimatrix=mat['ValsColl'][i].astype(np.float32)\n",
    "            cstring=\"Reds\"\n",
    "        elif ii==1:\n",
    "            iimatrix=mat['ValsCollSyn'][i].astype(np.float32)\n",
    "            cstring=\"Blues\"\n",
    "        mask = np.zeros_like(iimatrix, dtype=np.bool)\n",
    "        mask[np.triu_indices_from(mask)]= True\n",
    "\n",
    "        sns.heatmap(iimatrix, \n",
    "                              mask = mask,\n",
    "                              square = True,\n",
    "                              linewidths = .5,\n",
    "                              cmap = sns.color_palette(cstring, 100), cbar=i == 0, cbar_ax=None if i else cbar_ax,\n",
    "                              vmin = 0, \n",
    "                              vmax = 1,\n",
    "                              annot = False, \n",
    "                              annot_kws={\"size\": 5}, fmt = \".0%\", ax=ax)\n",
    "\n",
    "        if i==0:\n",
    "            cbar = ax.collections[0].colorbar\n",
    "            cbar.ax.yaxis.set_major_formatter(PercentFormatter(1, 0))\n",
    "        #add the column names as labels\n",
    "        ax.set_ylim(len(iimatrix), 0)\n",
    "        ax.set_yticklabels(FeatureList, rotation = 0)\n",
    "        ax.set_xticks([i+0.5 for i in list(range(18))])\n",
    "        ax.set_xticklabels(FeatureList, rotation = 90)\n",
    "        ax.set_title(Comp[i], rotation = 0, fontsize=16, fontweight='bold')\n",
    "        sns.set_style({'xtick.bottom': True}, {'ytick.left': True})\n",
    "        ax.text(-0.1, 1.15, label_top[i], transform=ax.transAxes,fontsize=16, fontweight='bold', va='top', ha='right')\n",
    "    plt.show()\n",
    "    plt.savefig(filepath + 'Figures/RedSyn/' + II[ii] + '_wolabs_2.tif', format='tiff', dpi=300, pil_kwargs={\"compression\": \"tiff_lzw\"})\n",
    "    #plt.savefig('/Users/laura.imperatori/Desktop/REVFIG/' + II[ii] + '_wolabs.eps', format='eps', dpi=1200)"
   ]
  },
  {
   "cell_type": "markdown",
   "metadata": {},
   "source": [
    "## Available Data"
   ]
  },
  {
   "cell_type": "code",
   "execution_count": 20,
   "metadata": {},
   "outputs": [],
   "source": [
    "import numpy as np\n",
    "%matplotlib qt\n",
    "import matplotlib.pyplot as plt\n",
    "import seaborn as sns\n",
    "import scipy.io\n",
    "import pandas as pd\n",
    "mat = scipy.io.loadmat('/Users/laura.imperatori/Downloads/AvailableDataMins.mat')"
   ]
  },
  {
   "cell_type": "code",
   "execution_count": 21,
   "metadata": {},
   "outputs": [],
   "source": [
    "pd_df = pd.DataFrame(mat['SegsN'].T, columns=[\"REM\", \"N2\", \"N3\", \"Wakefulness\"])\n",
    "num_individuals = len(pd_df.index)\n",
    "pd_df = pd_df.melt()\n",
    "pd_df[\"Subject\"] = [(i)%(num_individuals) + 1 for i in pd_df.index]"
   ]
  },
  {
   "cell_type": "code",
   "execution_count": 22,
   "metadata": {},
   "outputs": [],
   "source": [
    "pd_df.loc[pd_df[\"Subject\"] <=12,'Group']='Dataset-1'\n",
    "pd_df.loc[pd_df[\"Subject\"] >12,'Group']='Dataset-2'"
   ]
  },
  {
   "cell_type": "code",
   "execution_count": 23,
   "metadata": {},
   "outputs": [],
   "source": [
    "pd_df.columns = ['Vigilance Stage', 'Minutes', 'Subject', 'Group']"
   ]
  },
  {
   "cell_type": "code",
   "execution_count": 24,
   "metadata": {},
   "outputs": [],
   "source": [
    "import matplotlib.pylab as pylab\n",
    "params = {'legend.fontsize': 'x-large',\n",
    "          'figure.figsize': (10, 10),\n",
    "         'axes.labelsize': 'x-large',\n",
    "         'axes.titlesize':'x-large',\n",
    "         'xtick.labelsize':'x-large',\n",
    "         'ytick.labelsize':'x-large'}\n",
    "pylab.rcParams.update(params)"
   ]
  },
  {
   "cell_type": "code",
   "execution_count": 26,
   "metadata": {},
   "outputs": [],
   "source": [
    "fig = plt.figure(figsize=(10, 10))\n",
    "ax=sns.catplot(x='Vigilance Stage', y='Minutes', hue='Group', kind='swarm', data=pd_df);\n",
    "plt.tight_layout()\n",
    "plt.subplots_adjust(top=0.88)\n",
    "plt.title('Available Minutes of Data', fontsize=20, va='bottom')\n",
    "#plt.savefig('/Users/laura.imperatori/Desktop/AvailableData.png')\n",
    "plt.savefig(filepath + 'Figures/AvailableData.eps', format='eps', dpi=1200)"
   ]
  },
  {
   "cell_type": "markdown",
   "metadata": {},
   "source": [
    "# Cross-Validated Forward Selection"
   ]
  },
  {
   "cell_type": "code",
   "execution_count": 63,
   "metadata": {},
   "outputs": [],
   "source": [
    "import numpy as np\n",
    "%matplotlib qt\n",
    "import matplotlib.pyplot as plt\n",
    "import seaborn as sns\n",
    "import scipy.io\n",
    "import pandas as pd\n",
    "mat = scipy.io.loadmat(filepath + 'Data/CrossValidatedForwardSelection.mat')"
   ]
  },
  {
   "cell_type": "code",
   "execution_count": 64,
   "metadata": {},
   "outputs": [],
   "source": [
    "dfOcc=pd.DataFrame(mat['COUNTOCCMean'][:, :, 6], columns=['ALL', 'CUC', 'WREM'])"
   ]
  },
  {
   "cell_type": "code",
   "execution_count": 65,
   "metadata": {},
   "outputs": [],
   "source": [
    "dfAcc=pd.DataFrame(mat['AccOCCMean'][:, :, 6], columns=['ALL', 'CUC', 'WREM'])"
   ]
  },
  {
   "cell_type": "code",
   "execution_count": 66,
   "metadata": {},
   "outputs": [],
   "source": [
    "dfOcc['Features']=FeatureList\n",
    "dfAcc['Features']=FeatureList"
   ]
  },
  {
   "cell_type": "code",
   "execution_count": 67,
   "metadata": {},
   "outputs": [
    {
     "name": "stderr",
     "output_type": "stream",
     "text": [
      "/Users/laura.imperatori/opt/anaconda3/lib/python3.7/site-packages/ipykernel_launcher.py:18: UserWarning: This figure was using constrained_layout==True, but that is incompatible with subplots_adjust and or tight_layout: setting constrained_layout==False. \n"
     ]
    }
   ],
   "source": [
    "import matplotlib.gridspec as gridspec\n",
    "import matplotlib.ticker as mtick\n",
    "\n",
    "PLs=['Blues_d', 'Greens_d', 'Reds_d']\n",
    "fig = plt.figure(constrained_layout=True, figsize=(50,10))\n",
    "spec = fig.add_gridspec(ncols=3, nrows=1)\n",
    "for i in range(len(Comp)):\n",
    "    ax = fig.add_subplot(spec[0, i], aspect=30)\n",
    "    ax.set(xlim=(0, 19), ylim=(0, 0.5))\n",
    "    pd_df = dfOcc.sort_values(dfOcc.columns[i],ascending=False)\n",
    "    pd_df[dfOcc.columns[i]]=pd_df[dfOcc.columns[i]]/2000\n",
    "    sns.barplot(x='Features', y=dfOcc.columns[i], palette=PLs[i], ax=ax, data=pd_df)\n",
    "    plt.xticks(rotation=90)\n",
    "    plt.gca().yaxis.set_major_formatter(mtick.PercentFormatter(1))\n",
    "    plt.title(Comp[i])\n",
    "    plt.ylabel('Occurrences')\n",
    "#plt.suptitle('Number of Occurrences of Features in Forward Selection Sequences')\n",
    "plt.tight_layout()\n",
    "plt.savefig(filepath + 'Figures/TotalOCC_8412.eps', format='eps', dpi=1200)"
   ]
  },
  {
   "cell_type": "code",
   "execution_count": null,
   "metadata": {},
   "outputs": [],
   "source": [
    "# fig = plt.figure(constrained_layout=True)\n",
    "# df1 = pd.melt(dfOcc, id_vars=['Features']).rename(columns={'variable':'Comparison'})#.sort_values(['variable','value'])\n",
    "# df2 = pd.melt(dfAcc, id_vars=['Features'])#.sort_values(['variable','value'])\n",
    "# splot=sns.barplot(x='Features', y='value', hue='Comparison', palette=colours, data=df1)\n",
    "# plt.xticks(rotation=90)\n",
    "# plt.ylim([0,2000])\n",
    "# plt.ylabel('Occurrences')\n",
    "# plt.title('Number of Occurrences of Features in Forward Selection Sequences');\n",
    "# plt.tight_layout()\n",
    "# i=0\n",
    "# for p in splot.patches:\n",
    "#     splot.annotate('MeanAcc: ' + format(df2.loc[i,'value'], '.2f'), (p.get_x() + p.get_width() / 2., p.get_height()+200), ha = 'center', va = 'center', xytext = (0, 10), textcoords = 'offset points', rotation=90)\n",
    "#     i=i+1\n",
    "# plt.savefig('TotalOccurrenceofFeaturesinAnySequences.png')"
   ]
  },
  {
   "cell_type": "markdown",
   "metadata": {},
   "source": [
    "# Classifier Comparison"
   ]
  },
  {
   "cell_type": "code",
   "execution_count": 68,
   "metadata": {},
   "outputs": [],
   "source": [
    "import numpy as np\n",
    "%matplotlib qt\n",
    "import matplotlib.pyplot as plt\n",
    "import seaborn as sns\n",
    "import scipy.io\n",
    "import pandas as pd\n",
    "import matplotlib.ticker as mtick\n",
    "mat = scipy.io.loadmat(filepath + 'Data/AllClassifiers.mat')"
   ]
  },
  {
   "cell_type": "code",
   "execution_count": 69,
   "metadata": {},
   "outputs": [],
   "source": [
    "mat['AccAll']=np.squeeze(mat['ACC'])"
   ]
  },
  {
   "cell_type": "code",
   "execution_count": 70,
   "metadata": {},
   "outputs": [],
   "source": [
    "dfOC=pd.DataFrame(mat['AccAll'].T\n",
    "                  , columns=['SVM', 'QDA', 'LDA', 'Naive Bayes'])"
   ]
  },
  {
   "cell_type": "code",
   "execution_count": 71,
   "metadata": {},
   "outputs": [],
   "source": [
    "Names=['relPOW', 'wPLI', 'wSMI', 'relPOW+wPLI', 'relPOW+wSMI', 'wPLI+wSMI', 'relPOW+wPLI+wSMI']*2000\n",
    "NClass=['SVM', 'QDA', 'LDA', 'NB']\n",
    "coll=list()\n",
    "for nclassifier in [2,1,0,3]:\n",
    "    test=mat['DISTColl'][0,nclassifier,:,:]*100\n",
    "    test2=test.flatten('F')\n",
    "    pdarr=pd.DataFrame({'Tested Feature Sets': Names, 'Accuracy': test2}, index=range(1,14001))\n",
    "    pdarr['Type']=NClass[nclassifier]\n",
    "    coll.append(pdarr)"
   ]
  },
  {
   "cell_type": "code",
   "execution_count": 72,
   "metadata": {},
   "outputs": [],
   "source": [
    "alldata=pd.concat(coll,ignore_index=True)"
   ]
  },
  {
   "cell_type": "code",
   "execution_count": 73,
   "metadata": {},
   "outputs": [
    {
     "name": "stderr",
     "output_type": "stream",
     "text": [
      "The PostScript backend does not support transparency; partially transparent artists will be rendered opaque.\n",
      "The PostScript backend does not support transparency; partially transparent artists will be rendered opaque.\n"
     ]
    }
   ],
   "source": [
    "fig = plt.figure(figsize=(15,9))\n",
    "\n",
    "barp = sns.boxplot(y= 'Accuracy', x = 'Tested Feature Sets', hue='Type', data = alldata, whis=[2.5, 97.5], palette=(\"Blues_d\"), showfliers = False, showmeans=True, meanprops={\"marker\":\"o\",\"markerfacecolor\":\"white\", \"markeredgecolor\":\"white\", \"markersize\":8})\n",
    "\n",
    "loc, labels = plt.xticks()\n",
    "barp.set_xticklabels(labels, rotation=16)\n",
    "barp.set_xlabel(\"Tested Feature Sets\",fontsize=16)\n",
    "barp.set_ylabel(\"Accuracy\",fontsize=16)\n",
    "barp.tick_params(labelsize=14)\n",
    "\n",
    "barp.set_title(\"Accuracy of Selection of Classifiers: \\n  Wakefulness vs. N2- vs. N3- vs. REM-Sleep\", fontdict={'fontsize': 20, 'fontweight': 'bold'})\n",
    "\n",
    "fmt='%.0f%%'\n",
    "yticks=mtick.FormatStrFormatter(fmt)\n",
    "plt.gca().yaxis.set_major_formatter(yticks)\n",
    "pc=str('%')\n",
    "plt.tight_layout()\n",
    "#plt.savefig('AccuracyClassifierComparison.png')\n",
    "plt.savefig(filepath + 'Figures/AccuracyClassifierComparison.eps', format='eps', dpi=1200)"
   ]
  },
  {
   "cell_type": "markdown",
   "metadata": {},
   "source": [
    "# Cross-Validated Forward Selection: Key Features"
   ]
  },
  {
   "cell_type": "code",
   "execution_count": 79,
   "metadata": {},
   "outputs": [],
   "source": [
    "import numpy as np\n",
    "%matplotlib qt\n",
    "import matplotlib.pyplot as plt\n",
    "import seaborn as sns\n",
    "import scipy.io\n",
    "import pandas as pd\n",
    "import matplotlib.ticker as mtick\n",
    "mat = scipy.io.loadmat(filepath + 'Data/84_All_Plot.mat')\n",
    "Nboot=2000"
   ]
  },
  {
   "cell_type": "code",
   "execution_count": 80,
   "metadata": {},
   "outputs": [
    {
     "data": {
      "text/plain": [
       "{'__header__': b'MATLAB 5.0 MAT-file, Platform: MACI64, Created on: Sun Jun 27 11:54:16 2021',\n",
       " '__version__': '1.0',\n",
       " '__globals__': [],\n",
       " 'FeatColl': array([[array(['DeltaPowSigmawSMI'], dtype='<U17'),\n",
       "         array(['BetaPow'], dtype='<U7'),\n",
       "         array(['DeltaPowSigmawPLI'], dtype='<U17'),\n",
       "         array(['DeltaPowGammawSMI'], dtype='<U17'),\n",
       "         array(['BetaPowAlphawSMI'], dtype='<U16'),\n",
       "         array(['DeltaPowBetawSMI'], dtype='<U16'),\n",
       "         array(['BetaPowBetawSMI'], dtype='<U15'),\n",
       "         array(['AlphawSMI'], dtype='<U9'),\n",
       "         array(['DeltaPowDeltawPLI'], dtype='<U17'),\n",
       "         array(['AlphaPowBetaPow'], dtype='<U15'),\n",
       "         array(['BetaPowSigmawSMI'], dtype='<U16'),\n",
       "         array(['GammaPow'], dtype='<U8'),\n",
       "         array(['AlphaPow'], dtype='<U8'),\n",
       "         array(['BetaPowAlphawPLI'], dtype='<U16'),\n",
       "         array(['DeltaPowAlphawPLI'], dtype='<U17'),\n",
       "         array(['BetaPowGammawSMI'], dtype='<U16'),\n",
       "         array(['BetaPowSigmawPLI'], dtype='<U16'),\n",
       "         array(['AlphaPowSigmawSMI'], dtype='<U17'),\n",
       "         array(['BetaPowDeltawPLI'], dtype='<U16'),\n",
       "         array(['DeltaPowThetawSMI'], dtype='<U17')],\n",
       "        [array(['BetaPowSigmawSMI'], dtype='<U16'),\n",
       "         array(['BetaPow'], dtype='<U7'),\n",
       "         array(['DeltaPowSigmawSMI'], dtype='<U17'),\n",
       "         array(['SigmawSMI'], dtype='<U9'),\n",
       "         array(['GammaPowSigmawSMI'], dtype='<U17'),\n",
       "         array(['BetaPowSigmawPLI'], dtype='<U16'),\n",
       "         array(['GammaPow'], dtype='<U8'),\n",
       "         array(['AlphawSMISigmawSMI'], dtype='<U18'),\n",
       "         array(['DeltawPLISigmawSMI'], dtype='<U18'),\n",
       "         array(['SigmaPowSigmawSMI'], dtype='<U17'),\n",
       "         array(['ThetawSMI'], dtype='<U9'),\n",
       "         array(['DeltaPowSigmawPLI'], dtype='<U17'),\n",
       "         array(['SigmawPLISigmawSMI'], dtype='<U18'),\n",
       "         array(['SigmawPLI'], dtype='<U9'),\n",
       "         array(['DeltaPow'], dtype='<U8'),\n",
       "         array(['DeltaPowGammawSMI'], dtype='<U17'),\n",
       "         array(['BetaPowGammawSMI'], dtype='<U16'),\n",
       "         array(['AlphaPowSigmawSMI'], dtype='<U17'),\n",
       "         array(['GammaPowGammawSMI'], dtype='<U17'),\n",
       "         array(['BetaPowDeltawPLI'], dtype='<U16')],\n",
       "        [array(['AlphawSMI'], dtype='<U9'),\n",
       "         array(['DeltaPow'], dtype='<U8'),\n",
       "         array(['AlphawPLI'], dtype='<U9'),\n",
       "         array(['AlphaPow'], dtype='<U8'),\n",
       "         array(['BetaPow'], dtype='<U7'),\n",
       "         array(['GammaPow'], dtype='<U8'),\n",
       "         array(['ThetaPow'], dtype='<U8'),\n",
       "         array(['SigmaPow'], dtype='<U8'),\n",
       "         array(['BetawSMI'], dtype='<U8'),\n",
       "         array(['DeltaPowGammaPow'], dtype='<U16'),\n",
       "         array(['SigmawSMI'], dtype='<U9'),\n",
       "         array(['DeltawPLI'], dtype='<U9'),\n",
       "         array(['DeltawSMI'], dtype='<U9'),\n",
       "         array(['AlphaPowGammaPow'], dtype='<U16'),\n",
       "         array(['BetaPowAlphawSMI'], dtype='<U16'),\n",
       "         array(['GammawSMI'], dtype='<U9'),\n",
       "         array(['GammaPowAlphawSMI'], dtype='<U17'),\n",
       "         array(['DeltaPowAlphawSMI'], dtype='<U17'),\n",
       "         array(['ThetaPowAlphawSMI'], dtype='<U17'),\n",
       "         array(['GammawPLI'], dtype='<U9')]], dtype=object),\n",
       " 'LabColl': array([[array(['Acc:0.68'], dtype='<U8'),\n",
       "         array(['Acc:0.49'], dtype='<U8'),\n",
       "         array(['Acc:0.69'], dtype='<U8'),\n",
       "         array(['Acc:0.63'], dtype='<U8'),\n",
       "         array(['Acc:0.61'], dtype='<U8'),\n",
       "         array(['Acc:0.63'], dtype='<U8'),\n",
       "         array(['Acc:0.52'], dtype='<U8'),\n",
       "         array(['Acc:0.55'], dtype='<U8'),\n",
       "         array(['Acc:0.66'], dtype='<U8'),\n",
       "         array(['Acc:0.57'], dtype='<U8'),\n",
       "         array(['Acc:0.54'], dtype='<U8'),\n",
       "         array(['Acc:0.5'], dtype='<U7'),\n",
       "         array(['Acc:0.55'], dtype='<U8'),\n",
       "         array(['Acc:0.53'], dtype='<U8'),\n",
       "         array(['Acc:0.65'], dtype='<U8'),\n",
       "         array(['Acc:0.56'], dtype='<U8'),\n",
       "         array(['Acc:0.56'], dtype='<U8'),\n",
       "         array(['Acc:0.63'], dtype='<U8'),\n",
       "         array(['Acc:0.57'], dtype='<U8'),\n",
       "         array(['Acc:0.62'], dtype='<U8')],\n",
       "        [array(['Acc:0.85'], dtype='<U8'),\n",
       "         array(['Acc:0.78'], dtype='<U8'),\n",
       "         array(['Acc:0.88'], dtype='<U8'),\n",
       "         array(['Acc:0.82'], dtype='<U8'),\n",
       "         array(['Acc:0.84'], dtype='<U8'),\n",
       "         array(['Acc:0.85'], dtype='<U8'),\n",
       "         array(['Acc:0.74'], dtype='<U8'),\n",
       "         array(['Acc:0.81'], dtype='<U8'),\n",
       "         array(['Acc:0.84'], dtype='<U8'),\n",
       "         array(['Acc:0.83'], dtype='<U8'),\n",
       "         array(['Acc:0.71'], dtype='<U8'),\n",
       "         array(['Acc:0.87'], dtype='<U8'),\n",
       "         array(['Acc:0.82'], dtype='<U8'),\n",
       "         array(['Acc:0.73'], dtype='<U8'),\n",
       "         array(['Acc:0.76'], dtype='<U8'),\n",
       "         array(['Acc:0.8'], dtype='<U7'),\n",
       "         array(['Acc:0.79'], dtype='<U8'),\n",
       "         array(['Acc:0.88'], dtype='<U8'),\n",
       "         array(['Acc:0.78'], dtype='<U8'),\n",
       "         array(['Acc:0.82'], dtype='<U8')],\n",
       "        [array(['Acc:0.89'], dtype='<U8'),\n",
       "         array(['Acc:0.9'], dtype='<U7'),\n",
       "         array(['Acc:0.72'], dtype='<U8'),\n",
       "         array(['Acc:0.88'], dtype='<U8'),\n",
       "         array(['Acc:0.62'], dtype='<U8'),\n",
       "         array(['Acc:0.76'], dtype='<U8'),\n",
       "         array(['Acc:0.73'], dtype='<U8'),\n",
       "         array(['Acc:0.74'], dtype='<U8'),\n",
       "         array(['Acc:0.65'], dtype='<U8'),\n",
       "         array(['Acc:0.89'], dtype='<U8'),\n",
       "         array(['Acc:0.52'], dtype='<U8'),\n",
       "         array(['Acc:0.65'], dtype='<U8'),\n",
       "         array(['Acc:0.6'], dtype='<U7'),\n",
       "         array(['Acc:0.94'], dtype='<U8'),\n",
       "         array(['Acc:0.87'], dtype='<U8'),\n",
       "         array(['Acc:0.65'], dtype='<U8'),\n",
       "         array(['Acc:0.91'], dtype='<U8'),\n",
       "         array(['Acc:0.92'], dtype='<U8'),\n",
       "         array(['Acc:0.87'], dtype='<U8'),\n",
       "         array(['Acc:0.53'], dtype='<U8')]], dtype=object),\n",
       " 'ValColl': array([[ 87. ,  42.5,  35.5,  31. ,  31. ,  28.5,  25.5,  23. ,  22.5,\n",
       "          18.5,  17.5,  17. ,  16. ,  16. ,  15.5,  15.5,  15. ,  14.5,\n",
       "          14.5,  14. ],\n",
       "        [173.5, 172.5, 172. , 159.5,  94.5,  80. ,  72.5,  48.5,  48. ,\n",
       "          39.5,  36. ,  34.5,  31. ,  30.5,  29.5,  27. ,  27. ,  26. ,\n",
       "          25.5,  25. ],\n",
       "        [497. , 413. , 180. , 157. , 104. ,  86. ,  57. ,  50. ,  48. ,\n",
       "          26.5,  25. ,  19. ,  19. ,  18.5,  17.5,  16.5,  15. ,  12.5,\n",
       "          10.5,  10.5]])}"
      ]
     },
     "execution_count": 80,
     "metadata": {},
     "output_type": "execute_result"
    }
   ],
   "source": [
    "mat"
   ]
  },
  {
   "cell_type": "code",
   "execution_count": 81,
   "metadata": {},
   "outputs": [],
   "source": [
    "mat['ValColl']=mat['ValColl'].astype('float32')/Nboot"
   ]
  },
  {
   "cell_type": "code",
   "execution_count": 82,
   "metadata": {},
   "outputs": [
    {
     "data": {
      "text/plain": [
       "array([[0.0435 , 0.02125, 0.01775, 0.0155 , 0.0155 , 0.01425, 0.01275,\n",
       "        0.0115 , 0.01125, 0.00925, 0.00875, 0.0085 , 0.008  , 0.008  ,\n",
       "        0.00775, 0.00775, 0.0075 , 0.00725, 0.00725, 0.007  ],\n",
       "       [0.08675, 0.08625, 0.086  , 0.07975, 0.04725, 0.04   , 0.03625,\n",
       "        0.02425, 0.024  , 0.01975, 0.018  , 0.01725, 0.0155 , 0.01525,\n",
       "        0.01475, 0.0135 , 0.0135 , 0.013  , 0.01275, 0.0125 ],\n",
       "       [0.2485 , 0.2065 , 0.09   , 0.0785 , 0.052  , 0.043  , 0.0285 ,\n",
       "        0.025  , 0.024  , 0.01325, 0.0125 , 0.0095 , 0.0095 , 0.00925,\n",
       "        0.00875, 0.00825, 0.0075 , 0.00625, 0.00525, 0.00525]],\n",
       "      dtype=float32)"
      ]
     },
     "execution_count": 82,
     "metadata": {},
     "output_type": "execute_result"
    }
   ],
   "source": [
    "mat['ValColl']"
   ]
  },
  {
   "cell_type": "code",
   "execution_count": 83,
   "metadata": {},
   "outputs": [],
   "source": [
    "import matplotlib.gridspec as gridspec\n",
    "import matplotlib.ticker as mtick\n",
    "\n",
    "PLs=['Blues_d', 'Greens_d', 'Reds_d']\n",
    "fig = plt.figure(constrained_layout=True, figsize=(50,20))\n",
    "spec = fig.add_gridspec(ncols=3, nrows=1)\n",
    "#LIM=[0.05, 0.1, 0.45]\n",
    "LIM=[0.06, 0.12, 0.3]\n",
    "for c in range(len(Comp)):\n",
    "    ax = fig.add_subplot(spec[0, c], aspect=20/LIM[c])\n",
    "    ax.set(xlim=(0, 20), ylim=(0, LIM[c]))\n",
    "    dfOcc=pd.DataFrame(mat['ValColl'][c], index=mat['FeatColl'][c])\n",
    "    dfOcc.reset_index(inplace=True)\n",
    "    dfOcc.columns=['Features', 'Occurrence']\n",
    "    dfOcc['Features']=dfOcc['Features'].astype('str')\n",
    "    dfOcc['Features']=dfOcc['Features'].str.replace('[','').str.replace(']','').str.strip(\"'\")\n",
    "    dfOcc['Occurrence']=(dfOcc['Occurrence'])\n",
    "    splot=sns.barplot(x='Features', y='Occurrence', palette=PLs[c], ax=ax, data=dfOcc)\n",
    "    plt.xticks(rotation=90, fontsize=10)\n",
    "    plt.gca().yaxis.set_major_formatter(mtick.PercentFormatter(1.0, decimals=0))\n",
    "    plt.title(Comp[c])\n",
    "    plt.xlabel('')\n",
    "    plt.ylabel('Occurrences')\n",
    "    i=0\n",
    "    Labs=[i.strip('\"').strip(\"''\") for i in [str(i).replace('[', '').replace(']', '').replace('\"', \"\") for i in mat['LabColl'][c]]]\n",
    "    for p in splot.patches:\n",
    "        splot.annotate(Labs[i], (p.get_x() + p.get_width() / 2., p.get_height()+LIM[c]/20), ha = 'center', va = 'center', xytext = (0, 10), textcoords = 'offset points', rotation=90)\n",
    "        i=i+1\n",
    "plt.savefig(filepath + 'Figures/Accuracy_8412.eps', format='eps', dpi=1200)#plt.tight_layout()\n",
    "#plt.suptitle('Number of Occurrences of Features in Forward Selection Sequences')\n",
    "\n",
    "# for comp in range(3):\n",
    "#     mat['LabColl'][comp]\n",
    "#     mat['ValColl'][comp]\n",
    "# # df1 = pd.melt(dfOcc, id_vars=['Features']).rename(columns={'variable':'Comparison'})#.sort_values(['variable','value'])\n",
    "# # df2 = pd.melt(dfAcc, id_vars=['Features'])#.sort_values(['variable','value'])\n",
    "#     splot=sns.barplot(x='Features', y='value', hue='Comparison', palette=colours, data=df1)\n",
    "#     plt.xticks(rotation=90)\n",
    "#     plt.ylim([0,2000])\n",
    "#     plt.ylabel('Occurrences')\n",
    "#     plt.title('Number of Occurrences of Features in Forward Selection Sequences');\n",
    "#     plt.tight_layout()\n",
    "#     i=0\n",
    "#     for p in splot.patches:\n",
    "#         splot.annotate('MeanAcc: ' + format(df2.loc[i,'value'], '.2f'), (p.get_x() + p.get_width() / 2., p.get_height()+200), ha = 'center', va = 'center', xytext = (0, 10), textcoords = 'offset points', rotation=90)\n",
    "#         i=i+1\n",
    "#plt.savefig('TotalOccurrenceofFeaturesinAnySequences.png')"
   ]
  },
  {
   "cell_type": "code",
   "execution_count": null,
   "metadata": {},
   "outputs": [],
   "source": []
  }
 ],
 "metadata": {
  "kernelspec": {
   "display_name": "Python 3",
   "language": "python",
   "name": "python3"
  },
  "language_info": {
   "codemirror_mode": {
    "name": "ipython",
    "version": 3
   },
   "file_extension": ".py",
   "mimetype": "text/x-python",
   "name": "python",
   "nbconvert_exporter": "python",
   "pygments_lexer": "ipython3",
   "version": "3.7.4"
  }
 },
 "nbformat": 4,
 "nbformat_minor": 2
}
